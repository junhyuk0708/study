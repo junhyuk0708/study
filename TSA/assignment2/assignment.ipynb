{
 "cells": [
  {
   "cell_type": "code",
   "execution_count": null,
   "id": "44fa001b",
   "metadata": {},
   "outputs": [],
   "source": [
    "def kernelsmoothing(x,b):\n",
    "    L=[]\n",
    "    n=len(x)\n",
    "    for t in range(n):\n",
    "        Lt,Lt2=[],[]\n",
    "        for j in range(n):\n",
    "            K_jt=norm.pdf((j-t)/b)\n",
    "            Lt.append(K_jt)\n",
    "        den=sum(Lt)\n",
    "        for i in range(n):\n",
    "            w_it=Lt[i]/den\n",
    "            wx_it=w_it*x[i]\n",
    "            Lt2.append(wx_it)\n",
    "        m_t=sum(Lt2)\n",
    "        L.append(m_t)\n",
    "    plt.plot(x,'c')\n",
    "    plt.plot(L,'r')\n",
    "    plt.show()\n",
    "    return L"
   ]
  }
 ],
 "metadata": {
  "kernelspec": {
   "display_name": "Python 3 (ipykernel)",
   "language": "python",
   "name": "python3"
  },
  "language_info": {
   "codemirror_mode": {
    "name": "ipython",
    "version": 3
   },
   "file_extension": ".py",
   "mimetype": "text/x-python",
   "name": "python",
   "nbconvert_exporter": "python",
   "pygments_lexer": "ipython3",
   "version": "3.11.4"
  }
 },
 "nbformat": 4,
 "nbformat_minor": 5
}
