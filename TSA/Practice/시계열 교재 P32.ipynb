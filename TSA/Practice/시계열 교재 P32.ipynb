{
 "cells": [
  {
   "cell_type": "code",
   "execution_count": 1,
   "id": "50a5e04a",
   "metadata": {},
   "outputs": [],
   "source": [
    "import numpy as np"
   ]
  },
  {
   "cell_type": "code",
   "execution_count": 2,
   "id": "fa77eac5",
   "metadata": {},
   "outputs": [],
   "source": [
    "def gen_MA_1(n, theta, ss): # ss = var of WN\n",
    "    Lx = []\n",
    "    wt = np.random.normal(0, ss**0.5, n)\n",
    "    for t in range(1, n):\n",
    "        xt = wt[t] + theta*wt[t-1]\n",
    "        Lx.append(xt)\n",
    "    return Lx"
   ]
  },
  {
   "cell_type": "code",
   "execution_count": 3,
   "id": "12d22694",
   "metadata": {},
   "outputs": [],
   "source": [
    "MD1_500, MD1_1000 = gen_MA_1(500, 5, 1), gen_MA_1(1000, 5, 1)"
   ]
  },
  {
   "cell_type": "code",
   "execution_count": 4,
   "id": "2917a617",
   "metadata": {},
   "outputs": [],
   "source": [
    "MD25_5000, MD25_1000 = gen_MA_1(500, 1/5, 25), gen_MA_1(1000, 1/5, 25) "
   ]
  },
  {
   "cell_type": "code",
   "execution_count": 13,
   "id": "99d7e54b",
   "metadata": {},
   "outputs": [],
   "source": [
    "def Auto_cov_corr(D): # D = data\n",
    "    Lcov = []\n",
    "    x = D\n",
    "    n = len(D)\n",
    "    mu = np.mean(D)\n",
    "    for h in range(0, 5):\n",
    "        Lh = []\n",
    "        for t in range(0, n-h):\n",
    "            ac = (x[t+h]-mu) * (x[t]-mu)\n",
    "            Lh.append(ac)\n",
    "        auto_cov_h = sum(Lh) / n\n",
    "        Lcov.append(auto_cov_h)\n",
    "    AutoCov = np.array(Lcov)\n",
    "    Sacf = AutoCov / AutoCov[0]\n",
    "    print(AutoCov)\n",
    "    print(Sacf)"
   ]
  },
  {
   "cell_type": "code",
   "execution_count": 14,
   "id": "1d744fd8",
   "metadata": {},
   "outputs": [
    {
     "name": "stdout",
     "output_type": "stream",
     "text": [
      "[26.38558301  4.26414942 -0.59006678  1.70420159 -1.11059455]\n",
      "[ 1.          0.16160907 -0.02236323  0.06458836 -0.04209096]\n"
     ]
    }
   ],
   "source": [
    "Auto_cov_corr(MD1_500)"
   ]
  },
  {
   "cell_type": "code",
   "execution_count": 15,
   "id": "2e5cd852",
   "metadata": {},
   "outputs": [
    {
     "name": "stdout",
     "output_type": "stream",
     "text": [
      "[24.80194229  5.46072333  0.3096251  -0.27999113 -0.5545672 ]\n",
      "[ 1.          0.22017321  0.01248391 -0.01128908 -0.02235983]\n"
     ]
    }
   ],
   "source": [
    "Auto_cov_corr(MD1_1000)"
   ]
  },
  {
   "cell_type": "code",
   "execution_count": null,
   "id": "20c5e577",
   "metadata": {},
   "outputs": [],
   "source": []
  }
 ],
 "metadata": {
  "kernelspec": {
   "display_name": "Python3.9",
   "language": "python",
   "name": "py39"
  },
  "language_info": {
   "codemirror_mode": {
    "name": "ipython",
    "version": 3
   },
   "file_extension": ".py",
   "mimetype": "text/x-python",
   "name": "python",
   "nbconvert_exporter": "python",
   "pygments_lexer": "ipython3",
   "version": "3.9.17"
  }
 },
 "nbformat": 4,
 "nbformat_minor": 5
}
