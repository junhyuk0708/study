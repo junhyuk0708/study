{
 "cells": [
  {
   "cell_type": "code",
   "execution_count": null,
   "id": "3fdccf6f-a521-48c7-b5e3-700433f09cc1",
   "metadata": {},
   "outputs": [],
   "source": [
    "def fill_missing_values(data, columns_to_fill, corr_matrix):\n",
    "    for column in columns_to_fill:\n",
    "        if column in corr_matrix.columns:\n",
    "            most_corr_features = corr_matrix[column][corr_matrix[column].abs() > 0.1].index.tolist()\n",
    "            if column in most_corr_features:\n",
    "                most_corr_features.remove(column)\n",
    "\n",
    "            if most_corr_features:\n",
    "                group_modes = data.groupby(most_corr_features)[column].apply(lambda x: x.mode()[0] if not x.mode().empty else np.nan)\n",
    "\n",
    "                def fill_na(row):\n",
    "                    if pd.isna(row[column]):\n",
    "                        try:\n",
    "                            return group_modes.loc[tuple(row[most_corr_features])]\n",
    "                        except KeyError:\n",
    "                            return np.nan\n",
    "                    else:\n",
    "                        return row[column]\n",
    "\n",
    "                data[column] = data.apply(fill_na, axis=1)\n",
    "\n",
    "fill_missing_values(df_encoded, columns_to_fill_train, corr_matrix_train)\n",
    "fill_missing_values(dt_encoded, columns_to_fill_test, corr_matrix_test)\n"
   ]
  },
  {
   "cell_type": "code",
   "execution_count": null,
   "id": "9862b5a5-ccfa-4c0e-a1ad-f530a5cd47c8",
   "metadata": {},
   "outputs": [],
   "source": [
    "def cleaning(df):\n",
    "    threshold = 100\n",
    "    \n",
    "    cat_feats = ['cap-shape', 'cap-surface', 'cap-color',\n",
    "       'does-bruise-or-bleed', 'gill-attachment', 'gill-spacing', 'gill-color',\n",
    "       'stem-root', 'stem-surface', 'stem-color', 'spore-print-color',\n",
    "       'habitat', 'season', 'veil-info', 'has-ring-type']\n",
    "    \n",
    "    for feat in cat_feats:\n",
    "        if df[feat].dtype.name == 'category':\n",
    "            # Add 'missing' and 'noise' to categories if not present\n",
    "            if 'missing' not in df[feat].cat.categories:\n",
    "                df[feat] = df[feat].cat.add_categories('missing')\n",
    "            if 'noise' not in df[feat].cat.categories:\n",
    "                df[feat] = df[feat].cat.add_categories('noise')\n",
    "        else:\n",
    "            # Convert to category and add new categories\n",
    "            df[feat] = df[feat].astype('category')\n",
    "            df[feat] = df[feat].cat.add_categories(['missing', 'noise'])\n",
    "        \n",
    "        # Fill missing values with 'missing'\n",
    "        df[feat] = df[feat].fillna('missing')\n",
    "        \n",
    "        # Replace infrequent categories with 'noise'\n",
    "        counts = df[feat].value_counts(dropna=False)\n",
    "        infrequent_categories = counts[counts < threshold].index\n",
    "        df[feat] = df[feat].apply(lambda x: 'missing' if x in infrequent_categories else x)\n",
    "    \n",
    "    return df"
   ]
  }
 ],
 "metadata": {
  "kernelspec": {
   "display_name": "Python 3 (ipykernel)",
   "language": "python",
   "name": "python3"
  },
  "language_info": {
   "codemirror_mode": {
    "name": "ipython",
    "version": 3
   },
   "file_extension": ".py",
   "mimetype": "text/x-python",
   "name": "python",
   "nbconvert_exporter": "python",
   "pygments_lexer": "ipython3",
   "version": "3.9.19"
  }
 },
 "nbformat": 4,
 "nbformat_minor": 5
}
