{
 "cells": [
  {
   "cell_type": "code",
   "execution_count": 1,
   "id": "c0a72657-054e-4c11-bb3a-8c533b7924bc",
   "metadata": {},
   "outputs": [
    {
     "name": "stderr",
     "output_type": "stream",
     "text": [
      "/usr/local/lib/python3.9/site-packages/tqdm/auto.py:21: TqdmWarning: IProgress not found. Please update jupyter and ipywidgets. See https://ipywidgets.readthedocs.io/en/stable/user_install.html\n",
      "  from .autonotebook import tqdm as notebook_tqdm\n"
     ]
    }
   ],
   "source": [
    "import pandas as pd\n",
    "import numpy as np, os\n",
    "import matplotlib.pyplot as plt\n",
    "import seaborn as sn\n",
    "from sklearn.preprocessing import LabelEncoder,StandardScaler,OrdinalEncoder\n",
    "from sklearn.model_selection import (\n",
    "    train_test_split, GridSearchCV, StratifiedShuffleSplit,\n",
    "    StratifiedKFold, train_test_split, cross_val_score, cross_validate\n",
    ")\n",
    "from sklearn.metrics import roc_auc_score, roc_curve, auc, classification_report, confusion_matrix, accuracy_score,matthews_corrcoef\n",
    "import scipy\n",
    "import warnings\n",
    "from sklearn.metrics import matthews_corrcoef\n",
    "from autogluon.core.metrics import make_scorer\n",
    "from autogluon.tabular import TabularDataset, TabularPredictor\n",
    "warnings.filterwarnings('ignore')\n",
    "# Custom metric function\n",
    "def custom_mcc_metric(y_true, y_pred):\n",
    "    mcc = matthews_corrcoef(y_true, y_pred)\n",
    "    return mcc\n",
    "custom_mcc_scorer = make_scorer(name='mcc',\n",
    "                                score_func=custom_mcc_metric,\n",
    "                                greater_is_better=True)"
   ]
  },
  {
   "cell_type": "code",
   "execution_count": 2,
   "id": "34a9fa90-4ebd-4738-802d-7c8439d9e6d6",
   "metadata": {},
   "outputs": [
    {
     "name": "stdout",
     "output_type": "stream",
     "text": [
      "/workspace/data\n"
     ]
    }
   ],
   "source": [
    "cd /workspace/data/"
   ]
  },
  {
   "cell_type": "code",
   "execution_count": 3,
   "id": "27fd438a-4245-4c89-9946-71d1d5a41a86",
   "metadata": {},
   "outputs": [],
   "source": [
    "sample_submission = pd.read_csv(os.path.join(os.getcwd(), \"kaggle/playground-series-s4e8/sample_submission.csv\"))"
   ]
  },
  {
   "cell_type": "code",
   "execution_count": null,
   "id": "65f3481d-df50-479e-beb8-d0c0ed5ca51e",
   "metadata": {},
   "outputs": [],
   "source": [
    "df1 = pd.read_csv(os.path.join(os.getcwd(), \"kaggle/submission_autog_0831_fold5-0.csv\"))\n",
    "df2 = pd.read_csv(os.path.join(os.getcwd(), \"kaggle/submission_autog_0831_fold5-1.csv\"))\n",
    "df3 = pd.read_csv(os.path.join(os.getcwd(), \"kaggle/submission_autog_0831_fold5-2.csv\"))\n",
    "df4 = pd.read_csv(os.path.join(os.getcwd(), \"kaggle/submission_autog_0831_fold5-3.csv\"))\n",
    "df5 = pd.read_csv(os.path.join(os.getcwd(), \"kaggle/submission_autog_0831_fold5-4.csv\"))"
   ]
  },
  {
   "cell_type": "code",
   "execution_count": null,
   "id": "660005e8-85ca-4126-ac2e-a350a9338b58",
   "metadata": {},
   "outputs": [],
   "source": [
    "final_class_predictions = (((df1['class'] + df2['class'] + df3['class'] + df4['class'] + df5['class'])/5) >= 0.5).astype(int)\n",
    "id_column = sample_submission.pop('id')\n",
    "# y_test_pred = predictor.predict(test_data)\n",
    "\n",
    "# Replace 1 with 'p' and 0 with 'e'\n",
    "final_class_predictions = final_class_predictions.replace({1: 'p', 0: 'e'})\n",
    "\n",
    "# Create the submission DataFrame\n",
    "submission_df = pd.DataFrame({\n",
    "    'id': id_column,\n",
    "    'class': final_class_predictions\n",
    "})\n",
    "\n",
    "# Save the submission DataFrame to a CSV file\n",
    "submission_df.to_csv('./kaggle/submission_final_fold5.csv', index=False)\n",
    "print(\"Submission file created: final_class_predictions1.csv\")"
   ]
  },
  {
   "cell_type": "code",
   "execution_count": 5,
   "id": "a1bf42fd-1f8b-4062-b4bf-eb94377f0846",
   "metadata": {},
   "outputs": [],
   "source": [
    "df1 = pd.read_csv(os.path.join(os.getcwd(), \"kaggle/submission_final_class_fold4.csv\"))\n",
    "df2 = pd.read_csv(os.path.join(os.getcwd(), \"kaggle/submission_final_fold5.csv\"))\n",
    "df3 = pd.read_csv(os.path.join(os.getcwd(), \"kaggle/submission_xgb_cat_lgbm_0830_0.98508_prob.csv\"))"
   ]
  },
  {
   "cell_type": "code",
   "execution_count": 8,
   "id": "6065177a-d3f9-477a-a829-e61291b697d2",
   "metadata": {},
   "outputs": [
    {
     "data": {
      "text/plain": [
       "class\n",
       "p    1133446\n",
       "e     944518\n",
       "Name: count, dtype: int64"
      ]
     },
     "execution_count": 8,
     "metadata": {},
     "output_type": "execute_result"
    }
   ],
   "source": [
    "df1['class'].value_counts()"
   ]
  },
  {
   "cell_type": "code",
   "execution_count": 9,
   "id": "09473d86-23b5-4be3-b88a-782aace47266",
   "metadata": {},
   "outputs": [
    {
     "data": {
      "text/plain": [
       "class\n",
       "p    1133489\n",
       "e     944475\n",
       "Name: count, dtype: int64"
      ]
     },
     "execution_count": 9,
     "metadata": {},
     "output_type": "execute_result"
    }
   ],
   "source": [
    "df2['class'].value_counts()"
   ]
  },
  {
   "cell_type": "code",
   "execution_count": 12,
   "id": "6825737f-6b02-4226-9cf5-aebc0eb5321a",
   "metadata": {},
   "outputs": [
    {
     "data": {
      "text/plain": [
       "0          e\n",
       "1          p\n",
       "2          p\n",
       "3          p\n",
       "4          e\n",
       "          ..\n",
       "2077959    p\n",
       "2077960    p\n",
       "2077961    p\n",
       "2077962    e\n",
       "2077963    e\n",
       "Name: class, Length: 2077964, dtype: object"
      ]
     },
     "execution_count": 12,
     "metadata": {},
     "output_type": "execute_result"
    }
   ],
   "source": [
    "final_class_predictions = (df3['class'] >= 0.5).astype(int)\n",
    "final_class_predictions = final_class_predictions.replace({1: 'p', 0: 'e'})\n",
    "final_class_predictions"
   ]
  },
  {
   "cell_type": "code",
   "execution_count": 13,
   "id": "e3b67ece-7a46-4483-983d-66cdb8c2980c",
   "metadata": {},
   "outputs": [
    {
     "name": "stdout",
     "output_type": "stream",
     "text": [
      "class\n",
      "p    1133460\n",
      "e     944504\n",
      "Name: count, dtype: int64\n"
     ]
    }
   ],
   "source": [
    "from collections import Counter\n",
    "\n",
    "# Create a new DataFrame to store the final voted result\n",
    "final_voted_result = pd.DataFrame(index=df1.index)\n",
    "\n",
    "# Combine the predictions from the three DataFrames\n",
    "predictions = pd.concat([df1['class'], df2['class'], final_class_predictions], axis=1)\n",
    "\n",
    "# Apply hard voting (majority voting)\n",
    "final_voted_result['class'] = predictions.apply(lambda row: Counter(row).most_common(1)[0][0], axis=1)\n",
    "\n",
    "# Display the final voted result\n",
    "print(final_voted_result['class'].value_counts())"
   ]
  },
  {
   "cell_type": "code",
   "execution_count": 21,
   "id": "a719584c-7173-426f-8788-086bb2639c96",
   "metadata": {},
   "outputs": [],
   "source": [
    "id_column = sample_submission.pop('id')\n",
    "# Create the submission DataFrame\n",
    "submission_df = pd.DataFrame({\n",
    "    'id': id_column,\n",
    "    'class': final_voted_result['class']\n",
    "})\n",
    "# If you want to save the final result to a CSV file\n",
    "submission_df.to_csv('./kaggle/final_voted_result.csv', index=False)"
   ]
  },
  {
   "cell_type": "code",
   "execution_count": null,
   "id": "9b0a3079-678e-4075-b184-66686260f4cc",
   "metadata": {},
   "outputs": [],
   "source": [
    "final_class_predictions = (((df1['class'] + df2['class'] + df3['class'] + df4['class'] + df5['class'])/5) >= 0.5).astype(int)\n",
    "id_column = sample_submission_data.pop('id')\n",
    "# y_test_pred = predictor.predict(test_data)\n",
    "\n",
    "# Replace 1 with 'p' and 0 with 'e'\n",
    "final_class_predictions = final_class_predictions.replace({1: 'p', 0: 'e'})\n",
    "\n",
    "# Create the submission DataFrame\n",
    "submission_df = pd.DataFrame({\n",
    "    'id': id_column,\n",
    "    'class': final_class_predictions\n",
    "})\n",
    "\n",
    "# Save the submission DataFrame to a CSV file\n",
    "submission_df.to_csv('./kaggle/submission_final_class_predictions_1.csv', index=False)\n",
    "print(\"Submission file created: final_class_predictions1.csv\")"
   ]
  },
  {
   "cell_type": "code",
   "execution_count": null,
   "id": "feae586d-85bf-4e02-b402-d44663def79d",
   "metadata": {},
   "outputs": [],
   "source": [
    "final_class_predictions = (((df1['class'] + df2['class'] + df3['class'] + df4['class']) /4) >= 0.5).astype(int)\n",
    "id_column = sample_submission_data.pop('id')\n",
    "# y_test_pred = predictor.predict(test_data)\n",
    "\n",
    "# Replace 1 with 'p' and 0 with 'e'\n",
    "final_class_predictions = final_class_predictions.replace({1: 'p', 0: 'e'})\n",
    "\n",
    "# Create the submission DataFrame\n",
    "submission_df = pd.DataFrame({\n",
    "    'id': id_column,\n",
    "    'class': final_class_predictions\n",
    "})\n",
    "\n",
    "# Save the submission DataFrame to a CSV file\n",
    "submission_df.to_csv('./kaggle/submission_final_class_predictions_2.csv', index=False)\n",
    "print(\"Submission file created: final_class_predictions1.csv\")"
   ]
  },
  {
   "cell_type": "code",
   "execution_count": null,
   "id": "62042bba-8abf-4f77-876a-d5c59a6f2028",
   "metadata": {},
   "outputs": [],
   "source": []
  },
  {
   "cell_type": "code",
   "execution_count": null,
   "id": "0bd0dbd6-84f3-4038-9cad-9a9abceb9a25",
   "metadata": {},
   "outputs": [],
   "source": []
  },
  {
   "cell_type": "code",
   "execution_count": null,
   "id": "0f5b5214-ff8b-4477-834a-0c418ea709d8",
   "metadata": {},
   "outputs": [],
   "source": [
    "df11 = pd.read_csv(os.path.join(os.getcwd(), \"kaggle/submission_final_class_predictions_1.csv\"))\n",
    "df22 = pd.read_csv(os.path.join(os.getcwd(), \"kaggle/submission_final_class_predictions_2.csv\"))"
   ]
  },
  {
   "cell_type": "code",
   "execution_count": 16,
   "id": "f452fe0f-ef13-463e-ace8-7a9a869c1fb3",
   "metadata": {},
   "outputs": [],
   "source": [
    "df33 = pd.read_csv(os.path.join(os.getcwd(), \"kaggle/98525.csv\"))\n",
    "df44 = pd.read_csv(os.path.join(os.getcwd(), \"kaggle/98530.csv\"))\n",
    "df55 = pd.read_csv(os.path.join(os.getcwd(), \"kaggle/98530_1.csv\"))"
   ]
  },
  {
   "cell_type": "code",
   "execution_count": null,
   "id": "08101b79-a13f-46cf-a1af-6d6113b199e5",
   "metadata": {},
   "outputs": [],
   "source": [
    "df6['class'].value_counts()"
   ]
  },
  {
   "cell_type": "code",
   "execution_count": null,
   "id": "04f83a61-aea4-42d5-adef-c6eeb7989fae",
   "metadata": {},
   "outputs": [],
   "source": [
    "df44['class'].value_counts()"
   ]
  },
  {
   "cell_type": "code",
   "execution_count": null,
   "id": "2d2a328f-48e3-40fd-952d-3518dc17b408",
   "metadata": {},
   "outputs": [],
   "source": []
  },
  {
   "cell_type": "code",
   "execution_count": 19,
   "id": "13ea2eba-4373-4b90-babd-91eb6d59fca9",
   "metadata": {},
   "outputs": [
    {
     "name": "stdout",
     "output_type": "stream",
     "text": [
      "Matching elements: 2077143/2077964\n",
      "Non-matching elements:  821\n"
     ]
    }
   ],
   "source": [
    "comparison = df55['class'] == final_voted_result['class']\n",
    "matching_elements = comparison.sum()\n",
    "total_elements = len(comparison)\n",
    "print(f\"Matching elements: {matching_elements}/{total_elements}\")\n",
    "print(\"Non-matching elements: \", total_elements - matching_elements)"
   ]
  },
  {
   "cell_type": "code",
   "execution_count": null,
   "id": "461ec8cc-5b60-41f1-b8db-6a84dcdc7ace",
   "metadata": {},
   "outputs": [],
   "source": []
  }
 ],
 "metadata": {
  "kernelspec": {
   "display_name": "Python 3 (ipykernel)",
   "language": "python",
   "name": "python3"
  },
  "language_info": {
   "codemirror_mode": {
    "name": "ipython",
    "version": 3
   },
   "file_extension": ".py",
   "mimetype": "text/x-python",
   "name": "python",
   "nbconvert_exporter": "python",
   "pygments_lexer": "ipython3",
   "version": "3.9.19"
  }
 },
 "nbformat": 4,
 "nbformat_minor": 5
}
